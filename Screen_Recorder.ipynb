{
 "cells": [
  {
   "cell_type": "code",
   "execution_count": 3,
   "metadata": {},
   "outputs": [],
   "source": [
    "import cv2\n",
    "import numpy as np\n",
    "import pyautogui\n",
    "\n",
    "# display screen resolution, get it from your OS settings\n",
    "SCREEN_SIZE = (1366, 768)\n",
    "# define the codec\n",
    "fourcc = cv2.VideoWriter_fourcc(*\"XVID\")\n",
    "# create the video write object\n",
    "out = cv2.VideoWriter(\"Test1.mp4\", fourcc, 20.0, (SCREEN_SIZE))\n",
    "\n",
    "while True:\n",
    "    # make a screenshot\n",
    "    img = pyautogui.screenshot()\n",
    "    # img = pyautogui.screenshot(region=(0, 0, 300, 400))\n",
    "    # convert these pixels to a proper numpy array to work with OpenCV\n",
    "    frame = np.array(img)\n",
    "    # convert colors from BGR to RGB\n",
    "    frame = cv2.cvtColor(frame, cv2.COLOR_BGR2RGB)\n",
    "    # write the frame\n",
    "    out.write(frame)\n",
    "    # show the frame\n",
    "    cv2.imshow(\"screenshot\", frame)\n",
    "    # if the user clicks q, it exits\n",
    "    if cv2.waitKey(1) == ord(\"q\"):\n",
    "        break\n",
    "\n",
    "# make sure everything is closed when exited\n",
    "cv2.destroyAllWindows()\n",
    "out.release()"
   ]
  },
  {
   "cell_type": "code",
   "execution_count": 3,
   "metadata": {},
   "outputs": [
    {
     "data": {
      "text/plain": [
       "Size(width=1366, height=768)"
      ]
     },
     "execution_count": 3,
     "metadata": {},
     "output_type": "execute_result"
    }
   ],
   "source": [
    "pyautogui.size() "
   ]
  },
  {
   "cell_type": "code",
   "execution_count": null,
   "metadata": {},
   "outputs": [],
   "source": []
  },
  {
   "cell_type": "code",
   "execution_count": null,
   "metadata": {},
   "outputs": [],
   "source": []
  },
  {
   "cell_type": "code",
   "execution_count": null,
   "metadata": {},
   "outputs": [],
   "source": []
  }
 ],
 "metadata": {
  "kernelspec": {
   "display_name": "Python 3",
   "language": "python",
   "name": "python3"
  },
  "language_info": {
   "codemirror_mode": {
    "name": "ipython",
    "version": 3
   },
   "file_extension": ".py",
   "mimetype": "text/x-python",
   "name": "python",
   "nbconvert_exporter": "python",
   "pygments_lexer": "ipython3",
   "version": "3.7.4"
  }
 },
 "nbformat": 4,
 "nbformat_minor": 2
}
